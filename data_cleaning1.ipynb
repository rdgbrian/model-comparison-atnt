{
 "cells": [
  {
   "cell_type": "markdown",
   "metadata": {},
   "source": [
    "# Assignemnt 1"
   ]
  },
  {
   "cell_type": "code",
   "execution_count": null,
   "metadata": {},
   "outputs": [],
   "source": [
    "import pandas as pd\n",
    "\n",
    "# Load the CSV file into a DataFrame\n",
    "file_path = \"speed_price_att.csv\"  # Replace 'your_file_path.csv' with the actual path to your CSV file\n",
    "\n",
    "df = pd.read_csv(file_path)\n",
    "\n",
    "# Display the first few rows of the DataFrame\n",
    "print(\"First few rows of the data:\")\n",
    "print(df.head())\n",
    "\n",
    "# Get the number of rows and columns in the DataFrame\n",
    "num_rows = df.shape[0]\n",
    "num_cols = df.shape[1]\n",
    "\n",
    "print(\"\\nNumber of rows:\", num_rows)\n",
    "print(\"Number of columns:\", num_cols)"
   ]
  },
  {
   "cell_type": "code",
   "execution_count": null,
   "metadata": {},
   "outputs": [],
   "source": [
    "import pandas as pd\n",
    "\n",
    "# Assuming 'df' is your DataFrame\n",
    "column_names = df.columns\n",
    "\n",
    "# If you want to convert it to a list, you can do:\n",
    "column_names_list = list(df.columns)\n",
    "\n",
    "# Printing the column names\n",
    "print(column_names)\n",
    "print(column_names_list)\n",
    "print(len(column_names_list))"
   ]
  },
  {
   "cell_type": "code",
   "execution_count": 78,
   "metadata": {},
   "outputs": [
    {
     "data": {
      "text/plain": [
       "11917"
      ]
     },
     "execution_count": 78,
     "metadata": {},
     "output_type": "execute_result"
    }
   ],
   "source": [
    "len(df[\"block_group\"].unique())"
   ]
  },
  {
   "cell_type": "code",
   "execution_count": 80,
   "metadata": {},
   "outputs": [
    {
     "data": {
      "text/plain": [
       "20"
      ]
     },
     "execution_count": 80,
     "metadata": {},
     "output_type": "execute_result"
    }
   ],
   "source": [
    "len(df[\"major_city\"].unique())"
   ]
  },
  {
   "cell_type": "code",
   "execution_count": 82,
   "metadata": {},
   "outputs": [
    {
     "data": {
      "text/plain": [
       "array(['AT&T'], dtype=object)"
      ]
     },
     "execution_count": 82,
     "metadata": {},
     "output_type": "execute_result"
    }
   ],
   "source": [
    "df[\"provider\"].unique()"
   ]
  },
  {
   "cell_type": "code",
   "execution_count": 81,
   "metadata": {},
   "outputs": [
    {
     "data": {
      "text/plain": [
       "20"
      ]
     },
     "execution_count": 81,
     "metadata": {},
     "output_type": "execute_result"
    }
   ],
   "source": [
    "len(df[\"incorporated_place\"].unique())"
   ]
  },
  {
   "cell_type": "code",
   "execution_count": 94,
   "metadata": {},
   "outputs": [
    {
     "data": {
      "text/html": [
       "<div>\n",
       "<style scoped>\n",
       "    .dataframe tbody tr th:only-of-type {\n",
       "        vertical-align: middle;\n",
       "    }\n",
       "\n",
       "    .dataframe tbody tr th {\n",
       "        vertical-align: top;\n",
       "    }\n",
       "\n",
       "    .dataframe thead th {\n",
       "        text-align: right;\n",
       "    }\n",
       "</style>\n",
       "<table border=\"1\" class=\"dataframe\">\n",
       "  <thead>\n",
       "    <tr style=\"text-align: right;\">\n",
       "      <th></th>\n",
       "      <th>address_full</th>\n",
       "      <th>incorporated_place</th>\n",
       "      <th>major_city</th>\n",
       "      <th>state</th>\n",
       "      <th>lat</th>\n",
       "      <th>lon</th>\n",
       "      <th>block_group</th>\n",
       "      <th>collection_datetime</th>\n",
       "      <th>provider</th>\n",
       "      <th>speed_down</th>\n",
       "      <th>speed_up</th>\n",
       "      <th>speed_unit</th>\n",
       "      <th>price</th>\n",
       "      <th>technology</th>\n",
       "      <th>package</th>\n",
       "      <th>fastest_speed_down</th>\n",
       "      <th>fastest_speed_price</th>\n",
       "      <th>fn</th>\n",
       "      <th>redlining_grade</th>\n",
       "      <th>race_perc_non_white</th>\n",
       "      <th>income_lmi</th>\n",
       "      <th>ppl_per_sq_mile</th>\n",
       "      <th>n_providers</th>\n",
       "      <th>income_dollars_below_median</th>\n",
       "      <th>internet_perc_broadband</th>\n",
       "      <th>median_household_income</th>\n",
       "    </tr>\n",
       "  </thead>\n",
       "  <tbody>\n",
       "    <tr>\n",
       "      <th>351606</th>\n",
       "      <td>5302 Buena Vista Pike Nashville, TN 37218</td>\n",
       "      <td>Nashville-Davidson metropolitan government (ba...</td>\n",
       "      <td>nashville</td>\n",
       "      <td>TN</td>\n",
       "      <td>36.243115</td>\n",
       "      <td>-86.828214</td>\n",
       "      <td>470370101061</td>\n",
       "      <td>1664223492</td>\n",
       "      <td>AT&amp;T</td>\n",
       "      <td>25.000</td>\n",
       "      <td>5.000</td>\n",
       "      <td>Mbps</td>\n",
       "      <td>55.0</td>\n",
       "      <td>Not Fiber</td>\n",
       "      <td>Internet 25</td>\n",
       "      <td>25.000</td>\n",
       "      <td>55.0</td>\n",
       "      <td>../data/intermediary/isp/att/nashville/4703701...</td>\n",
       "      <td>NaN</td>\n",
       "      <td>0.479139</td>\n",
       "      <td>1.438594</td>\n",
       "      <td>79.455043</td>\n",
       "      <td>2.0</td>\n",
       "      <td>-27231.0</td>\n",
       "      <td>0.840816</td>\n",
       "      <td>89318</td>\n",
       "    </tr>\n",
       "    <tr>\n",
       "      <th>58358</th>\n",
       "      <td>520 E 66th St, Los Angeles CA 90003</td>\n",
       "      <td>Los Angeles city</td>\n",
       "      <td>los angeles</td>\n",
       "      <td>CA</td>\n",
       "      <td>33.979550</td>\n",
       "      <td>-118.265670</td>\n",
       "      <td>60372393301</td>\n",
       "      <td>1650265836</td>\n",
       "      <td>AT&amp;T</td>\n",
       "      <td>0.768</td>\n",
       "      <td>0.384</td>\n",
       "      <td>Mbps</td>\n",
       "      <td>55.0</td>\n",
       "      <td>Not Fiber</td>\n",
       "      <td>Internet Basic 768kbps</td>\n",
       "      <td>0.768</td>\n",
       "      <td>55.0</td>\n",
       "      <td>../data/intermediary/isp/att/los angeles/06037...</td>\n",
       "      <td>C</td>\n",
       "      <td>0.981678</td>\n",
       "      <td>0.404181</td>\n",
       "      <td>1302.531458</td>\n",
       "      <td>2.0</td>\n",
       "      <td>38901.0</td>\n",
       "      <td>0.781609</td>\n",
       "      <td>26389</td>\n",
       "    </tr>\n",
       "    <tr>\n",
       "      <th>283220</th>\n",
       "      <td>7416 Marchand Ln, Charlotte NC 28262</td>\n",
       "      <td>Charlotte city</td>\n",
       "      <td>charlotte</td>\n",
       "      <td>NC</td>\n",
       "      <td>35.304368</td>\n",
       "      <td>-80.772294</td>\n",
       "      <td>371190055241</td>\n",
       "      <td>1650338383</td>\n",
       "      <td>AT&amp;T</td>\n",
       "      <td>300.000</td>\n",
       "      <td>300.000</td>\n",
       "      <td>Mbps</td>\n",
       "      <td>55.0</td>\n",
       "      <td>Fiber</td>\n",
       "      <td>AT&amp;T FIBER—INTERNET 300</td>\n",
       "      <td>1000.000</td>\n",
       "      <td>80.0</td>\n",
       "      <td>../data/intermediary/isp/att/charlotte/3711900...</td>\n",
       "      <td>NaN</td>\n",
       "      <td>0.899853</td>\n",
       "      <td>2.258679</td>\n",
       "      <td>423.813712</td>\n",
       "      <td>2.0</td>\n",
       "      <td>-82266.0</td>\n",
       "      <td>1.000000</td>\n",
       "      <td>147625</td>\n",
       "    </tr>\n",
       "    <tr>\n",
       "      <th>386073</th>\n",
       "      <td>4620 Beechnut St, Houston TX 77096</td>\n",
       "      <td>Houston city</td>\n",
       "      <td>houston</td>\n",
       "      <td>TX</td>\n",
       "      <td>29.689552</td>\n",
       "      <td>-95.455587</td>\n",
       "      <td>482014129001</td>\n",
       "      <td>1650312998</td>\n",
       "      <td>AT&amp;T</td>\n",
       "      <td>300.000</td>\n",
       "      <td>300.000</td>\n",
       "      <td>Mbps</td>\n",
       "      <td>55.0</td>\n",
       "      <td>Fiber</td>\n",
       "      <td>AT&amp;T FIBER—INTERNET 300</td>\n",
       "      <td>1000.000</td>\n",
       "      <td>80.0</td>\n",
       "      <td>../data/intermediary/isp/att/houston/482014129...</td>\n",
       "      <td>NaN</td>\n",
       "      <td>0.669774</td>\n",
       "      <td>1.176175</td>\n",
       "      <td>1861.311245</td>\n",
       "      <td>2.0</td>\n",
       "      <td>-9443.0</td>\n",
       "      <td>0.837766</td>\n",
       "      <td>63043</td>\n",
       "    </tr>\n",
       "    <tr>\n",
       "      <th>129185</th>\n",
       "      <td>1638 S Homan Ave, Chicago IL 60623</td>\n",
       "      <td>Chicago city</td>\n",
       "      <td>chicago</td>\n",
       "      <td>IL</td>\n",
       "      <td>41.857879</td>\n",
       "      <td>-87.710654</td>\n",
       "      <td>170312922001</td>\n",
       "      <td>1650358288</td>\n",
       "      <td>AT&amp;T</td>\n",
       "      <td>0.000</td>\n",
       "      <td>0.000</td>\n",
       "      <td>NaN</td>\n",
       "      <td>NaN</td>\n",
       "      <td>NaN</td>\n",
       "      <td>NaN</td>\n",
       "      <td>0.000</td>\n",
       "      <td>0.0</td>\n",
       "      <td>../data/intermediary/isp/att/chicago/170312922...</td>\n",
       "      <td>D</td>\n",
       "      <td>0.976744</td>\n",
       "      <td>0.568932</td>\n",
       "      <td>4906.909174</td>\n",
       "      <td>2.0</td>\n",
       "      <td>26768.0</td>\n",
       "      <td>0.695473</td>\n",
       "      <td>35329</td>\n",
       "    </tr>\n",
       "    <tr>\n",
       "      <th>261028</th>\n",
       "      <td>1013 Spruce Ave, Kansas City MO 64127</td>\n",
       "      <td>Kansas City city</td>\n",
       "      <td>kansas city</td>\n",
       "      <td>MO</td>\n",
       "      <td>39.099741</td>\n",
       "      <td>-94.532189</td>\n",
       "      <td>290950019003</td>\n",
       "      <td>1650311926</td>\n",
       "      <td>AT&amp;T</td>\n",
       "      <td>18.000</td>\n",
       "      <td>1.000</td>\n",
       "      <td>Mbps</td>\n",
       "      <td>55.0</td>\n",
       "      <td>Not Fiber</td>\n",
       "      <td>Internet 18</td>\n",
       "      <td>18.000</td>\n",
       "      <td>55.0</td>\n",
       "      <td>../data/intermediary/isp/att/kansas city/29095...</td>\n",
       "      <td>D</td>\n",
       "      <td>0.513250</td>\n",
       "      <td>0.323644</td>\n",
       "      <td>2168.561007</td>\n",
       "      <td>3.0</td>\n",
       "      <td>37997.0</td>\n",
       "      <td>0.605442</td>\n",
       "      <td>18182</td>\n",
       "    </tr>\n",
       "    <tr>\n",
       "      <th>204659</th>\n",
       "      <td>617 E Brandeis Ave, Louisville KY 40217</td>\n",
       "      <td>Louisville city</td>\n",
       "      <td>louisville</td>\n",
       "      <td>KY</td>\n",
       "      <td>38.220959</td>\n",
       "      <td>-85.745113</td>\n",
       "      <td>211110071001</td>\n",
       "      <td>1650331231</td>\n",
       "      <td>AT&amp;T</td>\n",
       "      <td>300.000</td>\n",
       "      <td>300.000</td>\n",
       "      <td>Mbps</td>\n",
       "      <td>55.0</td>\n",
       "      <td>Fiber</td>\n",
       "      <td>AT&amp;T FIBER—INTERNET 300</td>\n",
       "      <td>5000.000</td>\n",
       "      <td>180.0</td>\n",
       "      <td>../data/intermediary/isp/att/louisville/211110...</td>\n",
       "      <td>C</td>\n",
       "      <td>0.037594</td>\n",
       "      <td>0.986656</td>\n",
       "      <td>2274.930156</td>\n",
       "      <td>2.0</td>\n",
       "      <td>733.0</td>\n",
       "      <td>1.000000</td>\n",
       "      <td>54196</td>\n",
       "    </tr>\n",
       "    <tr>\n",
       "      <th>373845</th>\n",
       "      <td>5923 De Moss Dr, Houston TX 77081</td>\n",
       "      <td>Houston city</td>\n",
       "      <td>houston</td>\n",
       "      <td>TX</td>\n",
       "      <td>29.708014</td>\n",
       "      <td>-95.486093</td>\n",
       "      <td>482014214033</td>\n",
       "      <td>1650274961</td>\n",
       "      <td>AT&amp;T</td>\n",
       "      <td>100.000</td>\n",
       "      <td>20.000</td>\n",
       "      <td>Mbps</td>\n",
       "      <td>55.0</td>\n",
       "      <td>Not Fiber</td>\n",
       "      <td>Internet 100</td>\n",
       "      <td>100.000</td>\n",
       "      <td>55.0</td>\n",
       "      <td>../data/intermediary/isp/att/houston/482014214...</td>\n",
       "      <td>NaN</td>\n",
       "      <td>0.827497</td>\n",
       "      <td>0.676866</td>\n",
       "      <td>3181.835065</td>\n",
       "      <td>3.0</td>\n",
       "      <td>17320.0</td>\n",
       "      <td>0.492063</td>\n",
       "      <td>36280</td>\n",
       "    </tr>\n",
       "    <tr>\n",
       "      <th>271971</th>\n",
       "      <td>123 Hidden Valley Ln Jackson, MS 39212</td>\n",
       "      <td>Jackson city</td>\n",
       "      <td>jackson</td>\n",
       "      <td>MS</td>\n",
       "      <td>32.249431</td>\n",
       "      <td>-90.311926</td>\n",
       "      <td>280490108091</td>\n",
       "      <td>1651106318</td>\n",
       "      <td>AT&amp;T</td>\n",
       "      <td>300.000</td>\n",
       "      <td>300.000</td>\n",
       "      <td>Mbps</td>\n",
       "      <td>55.0</td>\n",
       "      <td>Fiber</td>\n",
       "      <td>AT&amp;T FIBER—INTERNET 300</td>\n",
       "      <td>5000.000</td>\n",
       "      <td>180.0</td>\n",
       "      <td>../data/intermediary/isp/att/jackson/280490108...</td>\n",
       "      <td>NaN</td>\n",
       "      <td>0.838844</td>\n",
       "      <td>1.929613</td>\n",
       "      <td>195.765380</td>\n",
       "      <td>2.0</td>\n",
       "      <td>-37244.0</td>\n",
       "      <td>0.798646</td>\n",
       "      <td>77308</td>\n",
       "    </tr>\n",
       "    <tr>\n",
       "      <th>8765</th>\n",
       "      <td>32 Epernay Cir, Little Rock AR 72223</td>\n",
       "      <td>Little Rock city</td>\n",
       "      <td>little rock</td>\n",
       "      <td>AR</td>\n",
       "      <td>34.815509</td>\n",
       "      <td>-92.513659</td>\n",
       "      <td>51190042131</td>\n",
       "      <td>1650349938</td>\n",
       "      <td>AT&amp;T</td>\n",
       "      <td>50.000</td>\n",
       "      <td>10.000</td>\n",
       "      <td>Mbps</td>\n",
       "      <td>55.0</td>\n",
       "      <td>Not Fiber</td>\n",
       "      <td>Internet 50</td>\n",
       "      <td>50.000</td>\n",
       "      <td>55.0</td>\n",
       "      <td>../data/intermediary/isp/att/little rock/05119...</td>\n",
       "      <td>NaN</td>\n",
       "      <td>0.149495</td>\n",
       "      <td>3.462645</td>\n",
       "      <td>223.888601</td>\n",
       "      <td>4.0</td>\n",
       "      <td>-132047.0</td>\n",
       "      <td>0.937212</td>\n",
       "      <td>185667</td>\n",
       "    </tr>\n",
       "  </tbody>\n",
       "</table>\n",
       "</div>"
      ],
      "text/plain": [
       "                                     address_full  \\\n",
       "351606  5302 Buena Vista Pike Nashville, TN 37218   \n",
       "58358         520 E 66th St, Los Angeles CA 90003   \n",
       "283220       7416 Marchand Ln, Charlotte NC 28262   \n",
       "386073         4620 Beechnut St, Houston TX 77096   \n",
       "129185         1638 S Homan Ave, Chicago IL 60623   \n",
       "261028      1013 Spruce Ave, Kansas City MO 64127   \n",
       "204659    617 E Brandeis Ave, Louisville KY 40217   \n",
       "373845          5923 De Moss Dr, Houston TX 77081   \n",
       "271971     123 Hidden Valley Ln Jackson, MS 39212   \n",
       "8765         32 Epernay Cir, Little Rock AR 72223   \n",
       "\n",
       "                                       incorporated_place   major_city state  \\\n",
       "351606  Nashville-Davidson metropolitan government (ba...    nashville    TN   \n",
       "58358                                    Los Angeles city  los angeles    CA   \n",
       "283220                                     Charlotte city    charlotte    NC   \n",
       "386073                                       Houston city      houston    TX   \n",
       "129185                                       Chicago city      chicago    IL   \n",
       "261028                                   Kansas City city  kansas city    MO   \n",
       "204659                                    Louisville city   louisville    KY   \n",
       "373845                                       Houston city      houston    TX   \n",
       "271971                                       Jackson city      jackson    MS   \n",
       "8765                                     Little Rock city  little rock    AR   \n",
       "\n",
       "              lat         lon   block_group  collection_datetime provider  \\\n",
       "351606  36.243115  -86.828214  470370101061           1664223492     AT&T   \n",
       "58358   33.979550 -118.265670   60372393301           1650265836     AT&T   \n",
       "283220  35.304368  -80.772294  371190055241           1650338383     AT&T   \n",
       "386073  29.689552  -95.455587  482014129001           1650312998     AT&T   \n",
       "129185  41.857879  -87.710654  170312922001           1650358288     AT&T   \n",
       "261028  39.099741  -94.532189  290950019003           1650311926     AT&T   \n",
       "204659  38.220959  -85.745113  211110071001           1650331231     AT&T   \n",
       "373845  29.708014  -95.486093  482014214033           1650274961     AT&T   \n",
       "271971  32.249431  -90.311926  280490108091           1651106318     AT&T   \n",
       "8765    34.815509  -92.513659   51190042131           1650349938     AT&T   \n",
       "\n",
       "        speed_down  speed_up speed_unit  price technology  \\\n",
       "351606      25.000     5.000       Mbps   55.0  Not Fiber   \n",
       "58358        0.768     0.384       Mbps   55.0  Not Fiber   \n",
       "283220     300.000   300.000       Mbps   55.0      Fiber   \n",
       "386073     300.000   300.000       Mbps   55.0      Fiber   \n",
       "129185       0.000     0.000        NaN    NaN        NaN   \n",
       "261028      18.000     1.000       Mbps   55.0  Not Fiber   \n",
       "204659     300.000   300.000       Mbps   55.0      Fiber   \n",
       "373845     100.000    20.000       Mbps   55.0  Not Fiber   \n",
       "271971     300.000   300.000       Mbps   55.0      Fiber   \n",
       "8765        50.000    10.000       Mbps   55.0  Not Fiber   \n",
       "\n",
       "                        package  fastest_speed_down  fastest_speed_price  \\\n",
       "351606              Internet 25              25.000                 55.0   \n",
       "58358    Internet Basic 768kbps               0.768                 55.0   \n",
       "283220  AT&T FIBER—INTERNET 300            1000.000                 80.0   \n",
       "386073  AT&T FIBER—INTERNET 300            1000.000                 80.0   \n",
       "129185                      NaN               0.000                  0.0   \n",
       "261028              Internet 18              18.000                 55.0   \n",
       "204659  AT&T FIBER—INTERNET 300            5000.000                180.0   \n",
       "373845             Internet 100             100.000                 55.0   \n",
       "271971  AT&T FIBER—INTERNET 300            5000.000                180.0   \n",
       "8765                Internet 50              50.000                 55.0   \n",
       "\n",
       "                                                       fn redlining_grade  \\\n",
       "351606  ../data/intermediary/isp/att/nashville/4703701...             NaN   \n",
       "58358   ../data/intermediary/isp/att/los angeles/06037...               C   \n",
       "283220  ../data/intermediary/isp/att/charlotte/3711900...             NaN   \n",
       "386073  ../data/intermediary/isp/att/houston/482014129...             NaN   \n",
       "129185  ../data/intermediary/isp/att/chicago/170312922...               D   \n",
       "261028  ../data/intermediary/isp/att/kansas city/29095...               D   \n",
       "204659  ../data/intermediary/isp/att/louisville/211110...               C   \n",
       "373845  ../data/intermediary/isp/att/houston/482014214...             NaN   \n",
       "271971  ../data/intermediary/isp/att/jackson/280490108...             NaN   \n",
       "8765    ../data/intermediary/isp/att/little rock/05119...             NaN   \n",
       "\n",
       "        race_perc_non_white  income_lmi  ppl_per_sq_mile  n_providers  \\\n",
       "351606             0.479139    1.438594        79.455043          2.0   \n",
       "58358              0.981678    0.404181      1302.531458          2.0   \n",
       "283220             0.899853    2.258679       423.813712          2.0   \n",
       "386073             0.669774    1.176175      1861.311245          2.0   \n",
       "129185             0.976744    0.568932      4906.909174          2.0   \n",
       "261028             0.513250    0.323644      2168.561007          3.0   \n",
       "204659             0.037594    0.986656      2274.930156          2.0   \n",
       "373845             0.827497    0.676866      3181.835065          3.0   \n",
       "271971             0.838844    1.929613       195.765380          2.0   \n",
       "8765               0.149495    3.462645       223.888601          4.0   \n",
       "\n",
       "        income_dollars_below_median  internet_perc_broadband  \\\n",
       "351606                     -27231.0                 0.840816   \n",
       "58358                       38901.0                 0.781609   \n",
       "283220                     -82266.0                 1.000000   \n",
       "386073                      -9443.0                 0.837766   \n",
       "129185                      26768.0                 0.695473   \n",
       "261028                      37997.0                 0.605442   \n",
       "204659                        733.0                 1.000000   \n",
       "373845                      17320.0                 0.492063   \n",
       "271971                     -37244.0                 0.798646   \n",
       "8765                      -132047.0                 0.937212   \n",
       "\n",
       "        median_household_income  \n",
       "351606                    89318  \n",
       "58358                     26389  \n",
       "283220                   147625  \n",
       "386073                    63043  \n",
       "129185                    35329  \n",
       "261028                    18182  \n",
       "204659                    54196  \n",
       "373845                    36280  \n",
       "271971                    77308  \n",
       "8765                     185667  "
      ]
     },
     "execution_count": 94,
     "metadata": {},
     "output_type": "execute_result"
    }
   ],
   "source": [
    "pd.set_option('display.max_columns', None)\n",
    "df.sample(n=10,)"
   ]
  },
  {
   "cell_type": "code",
   "execution_count": 71,
   "metadata": {},
   "outputs": [
    {
     "data": {
      "text/html": [
       "<div>\n",
       "<style scoped>\n",
       "    .dataframe tbody tr th:only-of-type {\n",
       "        vertical-align: middle;\n",
       "    }\n",
       "\n",
       "    .dataframe tbody tr th {\n",
       "        vertical-align: top;\n",
       "    }\n",
       "\n",
       "    .dataframe thead th {\n",
       "        text-align: right;\n",
       "    }\n",
       "</style>\n",
       "<table border=\"1\" class=\"dataframe\">\n",
       "  <thead>\n",
       "    <tr style=\"text-align: right;\">\n",
       "      <th></th>\n",
       "      <th>address_full</th>\n",
       "      <th>incorporated_place</th>\n",
       "      <th>major_city</th>\n",
       "      <th>state</th>\n",
       "      <th>lat</th>\n",
       "      <th>lon</th>\n",
       "      <th>block_group</th>\n",
       "      <th>collection_datetime</th>\n",
       "      <th>provider</th>\n",
       "      <th>speed_down</th>\n",
       "      <th>...</th>\n",
       "      <th>fastest_speed_price</th>\n",
       "      <th>fn</th>\n",
       "      <th>redlining_grade</th>\n",
       "      <th>race_perc_non_white</th>\n",
       "      <th>income_lmi</th>\n",
       "      <th>ppl_per_sq_mile</th>\n",
       "      <th>n_providers</th>\n",
       "      <th>income_dollars_below_median</th>\n",
       "      <th>internet_perc_broadband</th>\n",
       "      <th>median_household_income</th>\n",
       "    </tr>\n",
       "  </thead>\n",
       "  <tbody>\n",
       "    <tr>\n",
       "      <th>0</th>\n",
       "      <td>2406 Country Club Ave NW, Huntsville AL 35816</td>\n",
       "      <td>Huntsville city</td>\n",
       "      <td>huntsville</td>\n",
       "      <td>AL</td>\n",
       "      <td>34.745179</td>\n",
       "      <td>-86.606806</td>\n",
       "      <td>10890007022</td>\n",
       "      <td>1650310200</td>\n",
       "      <td>AT&amp;T</td>\n",
       "      <td>0.768</td>\n",
       "      <td>...</td>\n",
       "      <td>55.0</td>\n",
       "      <td>../data/intermediary/isp/att/huntsville/010890...</td>\n",
       "      <td>NaN</td>\n",
       "      <td>0.475059</td>\n",
       "      <td>0.381744</td>\n",
       "      <td>512.090069</td>\n",
       "      <td>4.0</td>\n",
       "      <td>35091.0</td>\n",
       "      <td>0.527881</td>\n",
       "      <td>21667</td>\n",
       "    </tr>\n",
       "    <tr>\n",
       "      <th>1</th>\n",
       "      <td>1902 Oglesby Dr NW, Huntsville AL 35816</td>\n",
       "      <td>Huntsville city</td>\n",
       "      <td>huntsville</td>\n",
       "      <td>AL</td>\n",
       "      <td>34.747563</td>\n",
       "      <td>-86.607140</td>\n",
       "      <td>10890007022</td>\n",
       "      <td>1650310229</td>\n",
       "      <td>AT&amp;T</td>\n",
       "      <td>5.000</td>\n",
       "      <td>...</td>\n",
       "      <td>55.0</td>\n",
       "      <td>../data/intermediary/isp/att/huntsville/010890...</td>\n",
       "      <td>NaN</td>\n",
       "      <td>0.475059</td>\n",
       "      <td>0.381744</td>\n",
       "      <td>512.090069</td>\n",
       "      <td>4.0</td>\n",
       "      <td>35091.0</td>\n",
       "      <td>0.527881</td>\n",
       "      <td>21667</td>\n",
       "    </tr>\n",
       "    <tr>\n",
       "      <th>2</th>\n",
       "      <td>2312 Cardinal Ave NW, Huntsville AL 35816</td>\n",
       "      <td>Huntsville city</td>\n",
       "      <td>huntsville</td>\n",
       "      <td>AL</td>\n",
       "      <td>34.746504</td>\n",
       "      <td>-86.605884</td>\n",
       "      <td>10890007022</td>\n",
       "      <td>1650310203</td>\n",
       "      <td>AT&amp;T</td>\n",
       "      <td>0.768</td>\n",
       "      <td>...</td>\n",
       "      <td>55.0</td>\n",
       "      <td>../data/intermediary/isp/att/huntsville/010890...</td>\n",
       "      <td>NaN</td>\n",
       "      <td>0.475059</td>\n",
       "      <td>0.381744</td>\n",
       "      <td>512.090069</td>\n",
       "      <td>4.0</td>\n",
       "      <td>35091.0</td>\n",
       "      <td>0.527881</td>\n",
       "      <td>21667</td>\n",
       "    </tr>\n",
       "    <tr>\n",
       "      <th>3</th>\n",
       "      <td>1903 Oglesby Dr NW, Huntsville AL 35816</td>\n",
       "      <td>Huntsville city</td>\n",
       "      <td>huntsville</td>\n",
       "      <td>AL</td>\n",
       "      <td>34.747759</td>\n",
       "      <td>-86.607675</td>\n",
       "      <td>10890007022</td>\n",
       "      <td>1650310195</td>\n",
       "      <td>AT&amp;T</td>\n",
       "      <td>5.000</td>\n",
       "      <td>...</td>\n",
       "      <td>55.0</td>\n",
       "      <td>../data/intermediary/isp/att/huntsville/010890...</td>\n",
       "      <td>NaN</td>\n",
       "      <td>0.475059</td>\n",
       "      <td>0.381744</td>\n",
       "      <td>512.090069</td>\n",
       "      <td>4.0</td>\n",
       "      <td>35091.0</td>\n",
       "      <td>0.527881</td>\n",
       "      <td>21667</td>\n",
       "    </tr>\n",
       "    <tr>\n",
       "      <th>4</th>\n",
       "      <td>1905 Canterbury Cir NW, Huntsville AL 35816</td>\n",
       "      <td>Huntsville city</td>\n",
       "      <td>huntsville</td>\n",
       "      <td>AL</td>\n",
       "      <td>34.748585</td>\n",
       "      <td>-86.605223</td>\n",
       "      <td>10890007022</td>\n",
       "      <td>1650310196</td>\n",
       "      <td>AT&amp;T</td>\n",
       "      <td>300.000</td>\n",
       "      <td>...</td>\n",
       "      <td>180.0</td>\n",
       "      <td>../data/intermediary/isp/att/huntsville/010890...</td>\n",
       "      <td>NaN</td>\n",
       "      <td>0.475059</td>\n",
       "      <td>0.381744</td>\n",
       "      <td>512.090069</td>\n",
       "      <td>4.0</td>\n",
       "      <td>35091.0</td>\n",
       "      <td>0.527881</td>\n",
       "      <td>21667</td>\n",
       "    </tr>\n",
       "  </tbody>\n",
       "</table>\n",
       "<p>5 rows × 26 columns</p>\n",
       "</div>"
      ],
      "text/plain": [
       "                                    address_full incorporated_place  \\\n",
       "0  2406 Country Club Ave NW, Huntsville AL 35816    Huntsville city   \n",
       "1        1902 Oglesby Dr NW, Huntsville AL 35816    Huntsville city   \n",
       "2      2312 Cardinal Ave NW, Huntsville AL 35816    Huntsville city   \n",
       "3        1903 Oglesby Dr NW, Huntsville AL 35816    Huntsville city   \n",
       "4    1905 Canterbury Cir NW, Huntsville AL 35816    Huntsville city   \n",
       "\n",
       "   major_city state        lat        lon  block_group  collection_datetime  \\\n",
       "0  huntsville    AL  34.745179 -86.606806  10890007022           1650310200   \n",
       "1  huntsville    AL  34.747563 -86.607140  10890007022           1650310229   \n",
       "2  huntsville    AL  34.746504 -86.605884  10890007022           1650310203   \n",
       "3  huntsville    AL  34.747759 -86.607675  10890007022           1650310195   \n",
       "4  huntsville    AL  34.748585 -86.605223  10890007022           1650310196   \n",
       "\n",
       "  provider  speed_down  ...  fastest_speed_price  \\\n",
       "0     AT&T       0.768  ...                 55.0   \n",
       "1     AT&T       5.000  ...                 55.0   \n",
       "2     AT&T       0.768  ...                 55.0   \n",
       "3     AT&T       5.000  ...                 55.0   \n",
       "4     AT&T     300.000  ...                180.0   \n",
       "\n",
       "                                                  fn  redlining_grade  \\\n",
       "0  ../data/intermediary/isp/att/huntsville/010890...              NaN   \n",
       "1  ../data/intermediary/isp/att/huntsville/010890...              NaN   \n",
       "2  ../data/intermediary/isp/att/huntsville/010890...              NaN   \n",
       "3  ../data/intermediary/isp/att/huntsville/010890...              NaN   \n",
       "4  ../data/intermediary/isp/att/huntsville/010890...              NaN   \n",
       "\n",
       "  race_perc_non_white income_lmi  ppl_per_sq_mile  n_providers  \\\n",
       "0            0.475059   0.381744       512.090069          4.0   \n",
       "1            0.475059   0.381744       512.090069          4.0   \n",
       "2            0.475059   0.381744       512.090069          4.0   \n",
       "3            0.475059   0.381744       512.090069          4.0   \n",
       "4            0.475059   0.381744       512.090069          4.0   \n",
       "\n",
       "  income_dollars_below_median internet_perc_broadband  median_household_income  \n",
       "0                     35091.0                0.527881                    21667  \n",
       "1                     35091.0                0.527881                    21667  \n",
       "2                     35091.0                0.527881                    21667  \n",
       "3                     35091.0                0.527881                    21667  \n",
       "4                     35091.0                0.527881                    21667  \n",
       "\n",
       "[5 rows x 26 columns]"
      ]
     },
     "execution_count": 71,
     "metadata": {},
     "output_type": "execute_result"
    }
   ],
   "source": [
    "df.head(5)"
   ]
  },
  {
   "cell_type": "code",
   "execution_count": 44,
   "metadata": {},
   "outputs": [
    {
     "data": {
      "text/plain": [
       "address_full                    object\n",
       "incorporated_place              object\n",
       "major_city                      object\n",
       "state                           object\n",
       "lat                            float64\n",
       "lon                            float64\n",
       "block_group                      int64\n",
       "collection_datetime              int64\n",
       "provider                        object\n",
       "speed_down                     float64\n",
       "speed_up                       float64\n",
       "speed_unit                      object\n",
       "price                          float64\n",
       "technology                      object\n",
       "package                         object\n",
       "fastest_speed_down             float64\n",
       "fastest_speed_price            float64\n",
       "fn                              object\n",
       "redlining_grade                 object\n",
       "race_perc_non_white            float64\n",
       "income_lmi                     float64\n",
       "ppl_per_sq_mile                float64\n",
       "n_providers                    float64\n",
       "income_dollars_below_median    float64\n",
       "internet_perc_broadband        float64\n",
       "median_household_income          int64\n",
       "dtype: object"
      ]
     },
     "execution_count": 44,
     "metadata": {},
     "output_type": "execute_result"
    }
   ],
   "source": [
    "data_types = df.dtypes\n",
    "data_types"
   ]
  },
  {
   "cell_type": "code",
   "execution_count": 45,
   "metadata": {},
   "outputs": [
    {
     "name": "stdout",
     "output_type": "stream",
     "text": [
      "String Columns: ['address_full', 'incorporated_place', 'major_city', 'state', 'provider', 'speed_unit', 'technology', 'package', 'fn', 'redlining_grade']\n",
      "Float Columns: ['lat', 'lon', 'speed_down', 'speed_up', 'price', 'fastest_speed_down', 'fastest_speed_price', 'race_perc_non_white', 'income_lmi', 'ppl_per_sq_mile', 'n_providers', 'income_dollars_below_median', 'internet_perc_broadband']\n",
      "Integer Columns: ['block_group', 'collection_datetime', 'median_household_income']\n"
     ]
    }
   ],
   "source": [
    "def categorize_columns(df):\n",
    "    string_columns = []\n",
    "    float_columns = []\n",
    "    int_columns = []\n",
    "\n",
    "    for column in df.columns:\n",
    "        if df[column].dtype == 'object':  # Check if column contains strings\n",
    "            string_columns.append(column)\n",
    "        elif df[column].dtype == 'float64':  # Check if column contains floats\n",
    "            float_columns.append(column)\n",
    "        elif df[column].dtype == 'int64':  # Check if column contains integers\n",
    "            int_columns.append(column)\n",
    "\n",
    "    return string_columns, float_columns, int_columns\n",
    "\n",
    "# Example usage:\n",
    "# Assuming 'df' is your DataFrame\n",
    "# df = pd.read_csv('your_file.csv')  # Read your dataframe from a CSV file, adjust this according to your data source\n",
    "\n",
    "# Call the function to categorize columns\n",
    "string_cols, float_cols, int_cols = categorize_columns(df)\n",
    "\n",
    "print(\"String Columns:\", string_cols)\n",
    "print(\"Float Columns:\", float_cols)\n",
    "print(\"Integer Columns:\", int_cols)"
   ]
  },
  {
   "cell_type": "code",
   "execution_count": 30,
   "metadata": {},
   "outputs": [
    {
     "name": "stdout",
     "output_type": "stream",
     "text": [
      "speed_unit YES\n",
      "price YES\n",
      "technology YES\n",
      "package YES\n",
      "redlining_grade YES\n",
      "income_lmi YES\n",
      "ppl_per_sq_mile YES\n",
      "n_providers YES\n",
      "income_dollars_below_median YES\n",
      "internet_perc_broadband YES\n"
     ]
    }
   ],
   "source": [
    "for cn in column_names_list:\n",
    "    if df[cn].isnull().any():\n",
    "        print(f\"{cn} YES\")\n",
    "    # else:\n",
    "    #     print(f\"{cn} NO\")"
   ]
  },
  {
   "cell_type": "code",
   "execution_count": 98,
   "metadata": {},
   "outputs": [
    {
     "name": "stdout",
     "output_type": "stream",
     "text": [
      "Column 'speed_down' has 0. - 82600\n",
      "Column 'speed_up' has 0. - 82600\n",
      "Column 'speed_unit' has NaN. - 82600\n",
      "Column 'price' has 0 and NaN. - 82603\n",
      "Column 'technology' has NaN. - 82600\n",
      "Column 'package' has NaN. - 82600\n",
      "Column 'fastest_speed_down' has 0. - 82600\n",
      "Column 'fastest_speed_price' has 0. - 82600\n",
      "Column 'redlining_grade' has NaN. - 246027\n",
      "Column 'race_perc_non_white' has 0. - 1600\n",
      "Column 'income_lmi' has NaN. - 17661\n",
      "Column 'ppl_per_sq_mile' has 0 and NaN. - 8560\n",
      "Column 'n_providers' has NaN. - 7969\n",
      "Column 'income_dollars_below_median' has 0 and NaN. - 17693\n",
      "Column 'internet_perc_broadband' has 0 and NaN. - 931\n"
     ]
    }
   ],
   "source": [
    "def print_missing_values(df, columns):\n",
    "    for column in columns:\n",
    "        has_zero = (df[column] == 0).any()\n",
    "        has_nan = df[column].isna().any()\n",
    "        missing_values = (df[column].isna() | (df[column] == 0)).sum()\n",
    "        if has_zero or has_nan:\n",
    "            print(f\"Column '{column}' has {'0' if has_zero else ''}{' and ' if (has_zero and has_nan) else ''}{'NaN' if has_nan else ''}. - {missing_values}\")\n",
    "\n",
    "print_missing_values(df,column_names_list)"
   ]
  },
  {
   "cell_type": "code",
   "execution_count": 74,
   "metadata": {},
   "outputs": [],
   "source": [
    "def calculate_rows_to_remove(df, columns):\n",
    "    missing_rows = df[columns].isna().any(axis=1).sum()\n",
    "    return missing_rows"
   ]
  },
  {
   "cell_type": "markdown",
   "metadata": {},
   "source": [
    "Remove the fn variable because its not usefull. Its the name of the file of API responses where this record was parsed from. To be used for trouble shooting. API responses are hosted externally in AWS s3."
   ]
  },
  {
   "cell_type": "code",
   "execution_count": 72,
   "metadata": {},
   "outputs": [],
   "source": [
    "df = df.drop([ 'fn'], axis=1) #remove fn variable"
   ]
  },
  {
   "cell_type": "markdown",
   "metadata": {},
   "source": [
    "## Float Columns"
   ]
  },
  {
   "cell_type": "code",
   "execution_count": 61,
   "metadata": {},
   "outputs": [
    {
     "data": {
      "text/plain": [
       "['lat',\n",
       " 'lon',\n",
       " 'speed_down',\n",
       " 'speed_up',\n",
       " 'price',\n",
       " 'fastest_speed_down',\n",
       " 'fastest_speed_price',\n",
       " 'race_perc_non_white',\n",
       " 'income_lmi',\n",
       " 'ppl_per_sq_mile',\n",
       " 'n_providers',\n",
       " 'income_dollars_below_median',\n",
       " 'internet_perc_broadband']"
      ]
     },
     "execution_count": 61,
     "metadata": {},
     "output_type": "execute_result"
    }
   ],
   "source": [
    "float_cols"
   ]
  },
  {
   "cell_type": "code",
   "execution_count": 59,
   "metadata": {},
   "outputs": [
    {
     "name": "stdout",
     "output_type": "stream",
     "text": [
      "Column 'price' has 82600 missing values.\n",
      "Column 'income_lmi' has 17661 missing values.\n",
      "Column 'ppl_per_sq_mile' has 7965 missing values.\n",
      "Column 'n_providers' has 7969 missing values.\n",
      "Column 'income_dollars_below_median' has 17661 missing values.\n",
      "Column 'internet_perc_broadband' has 849 missing values.\n"
     ]
    }
   ],
   "source": [
    "print_missing_values(df, float_cols)\n"
   ]
  },
  {
   "cell_type": "code",
   "execution_count": 64,
   "metadata": {},
   "outputs": [
    {
     "name": "stdout",
     "output_type": "stream",
     "text": [
      "Number of rows to remove: 101792\n"
     ]
    }
   ],
   "source": [
    "rows_to_remove = calculate_rows_to_remove(df, float_cols)\n",
    "print(f\"Number of rows to remove: {rows_to_remove}\")\n"
   ]
  },
  {
   "cell_type": "code",
   "execution_count": 60,
   "metadata": {},
   "outputs": [
    {
     "data": {
      "text/plain": [
       "432303"
      ]
     },
     "execution_count": 60,
     "metadata": {},
     "output_type": "execute_result"
    }
   ],
   "source": [
    "len(df)"
   ]
  },
  {
   "cell_type": "markdown",
   "metadata": {},
   "source": [
    "## Integer Columns"
   ]
  },
  {
   "cell_type": "code",
   "execution_count": 49,
   "metadata": {},
   "outputs": [
    {
     "name": "stdout",
     "output_type": "stream",
     "text": [
      "Column 'block_group' has 0 missing values.\n",
      "Column 'collection_datetime' has 0 missing values.\n",
      "Column 'median_household_income' has 0 missing values.\n"
     ]
    }
   ],
   "source": [
    "print_missing_values(df, int_cols)"
   ]
  },
  {
   "cell_type": "markdown",
   "metadata": {},
   "source": [
    "## String Columns"
   ]
  },
  {
   "cell_type": "code",
   "execution_count": 68,
   "metadata": {},
   "outputs": [
    {
     "name": "stdout",
     "output_type": "stream",
     "text": [
      "Column 'speed_unit' has 82600 missing values.\n",
      "Column 'technology' has 82600 missing values.\n",
      "Column 'package' has 82600 missing values.\n",
      "Column 'redlining_grade' has 246027 missing values.\n"
     ]
    }
   ],
   "source": [
    "print_missing_values(df, string_cols)"
   ]
  },
  {
   "cell_type": "code",
   "execution_count": 70,
   "metadata": {},
   "outputs": [
    {
     "name": "stdout",
     "output_type": "stream",
     "text": [
      "Number of rows to remove: 295822\n"
     ]
    }
   ],
   "source": [
    "rows_to_remove = calculate_rows_to_remove(df, string_cols + float_cols)\n",
    "print(f\"Number of rows to remove: {rows_to_remove}\")"
   ]
  },
  {
   "cell_type": "markdown",
   "metadata": {},
   "source": [
    "# Bruh"
   ]
  },
  {
   "cell_type": "code",
   "execution_count": 37,
   "metadata": {},
   "outputs": [
    {
     "name": "stderr",
     "output_type": "stream",
     "text": [
      "C:\\Users\\rdgbr\\AppData\\Local\\Temp\\ipykernel_4276\\2452633632.py:11: FutureWarning: The geopandas.dataset module is deprecated and will be removed in GeoPandas 1.0. You can get the original 'naturalearth_lowres' data from https://www.naturalearthdata.com/downloads/110m-cultural-vectors/.\n",
      "  world = gpd.read_file(gpd.datasets.get_path('naturalearth_lowres'))\n"
     ]
    },
    {
     "data": {
      "image/png": "[encoded data removed]",
      "text/plain": [
       "<Figure size 1000x600 with 1 Axes>"
      ]
     },
     "metadata": {},
     "output_type": "display_data"
    }
   ],
   "source": [
    "import pandas as pd\n",
    "from shapely.geometry import Point\n",
    "import geopandas as gpd\n",
    "from geopandas import GeoDataFrame\n",
    "\n",
    "\n",
    "geometry = [Point(xy) for xy in zip(df['lon'], df['lat'])]\n",
    "gdf = GeoDataFrame(df, geometry=geometry)   \n",
    "\n",
    "#this is a simple map that goes with geopandas\n",
    "world = gpd.read_file(gpd.datasets.get_path('naturalearth_lowres'))\n",
    "gdf.plot(ax=world.plot(figsize=(10, 6)), marker='o', color='red', markersize=15);"
   ]
  },
  {
   "cell_type": "code",
   "execution_count": 57,
   "metadata": {},
   "outputs": [
    {
     "data": {
      "text/plain": [
       "str"
      ]
     },
     "execution_count": 57,
     "metadata": {},
     "output_type": "execute_result"
    }
   ],
   "source": [
    "a=pd.DataFrame({'Col1':[1,2,'a','b',1.5],'Col2':['a','b','c',2,3],'Col3':['a',1.2,1.3,1.4,2]})\n",
    "a.dtypes\n",
    "\n",
    "type(['Col1'][0])"
   ]
  }
 ],
 "metadata": {
  "kernelspec": {
   "display_name": "pytorch",
   "language": "python",
   "name": "python3"
  },
  "language_info": {
   "codemirror_mode": {
    "name": "ipython",
    "version": 3
   },
   "file_extension": ".py",
   "mimetype": "text/x-python",
   "name": "python",
   "nbconvert_exporter": "python",
   "pygments_lexer": "ipython3",
   "version": "3.11.5"
  }
 },
 "nbformat": 4,
 "nbformat_minor": 2
}
